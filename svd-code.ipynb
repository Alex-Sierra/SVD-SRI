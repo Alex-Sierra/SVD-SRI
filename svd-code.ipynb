{
 "cells": [
  {
   "cell_type": "markdown",
   "metadata": {},
   "source": [
    "# Sistemas de Recomendación basados en SVD\n",
    "\n",
    "## SVD: Siempre venciendo desafios\n",
    "\n",
    "### Matemática Numérica\n",
    "### Facultad de Matemática y Computación\n",
    "\n",
    "Autores:\n"
   ]
  },
  {
   "cell_type": "code",
   "execution_count": 54,
   "metadata": {},
   "outputs": [],
   "source": [
    "import numpy as np\n",
    "import pandas as pd\n",
    "from scipy.sparse import coo_matrix\n",
    "from scipy.sparse.linalg import svds"
   ]
  },
  {
   "cell_type": "markdown",
   "metadata": {},
   "source": [
    "# Sistemas de Recomendación\n",
    "\n",
    "Los sistemas de recomendación son una herramienta que le ofrece a los usuarios una determinada ayuda a la hora de tomar decisiones, basado en la experiencia de otros usuarios. Un sistema de recomendacion se puede definir como aquel sistema que tiene como principal tarea seleccionar ciertos objetos de acuerdo a los requerimientos del usuario. Estos sistemas son de gran utilidad cuando la cantidad de inforación ofrecida al usuario es muy susperior a las capacidades de evaluación y exploración de este.\n",
    "\n",
    "La creación de un sistema de recomendación cuenta con tres fases principales:\n",
    "- Captura de las preferencias y los gustos e intereses del usuario.\n",
    "- Extracción del conocimiento, aquí el sistema se encarga de interpretar la informacion que recopiló anteriormente para poder predecir los gustos y las preferencias del usuario.\n",
    "- A partir del contenido procesado anteriormente el sistema se encarga de se seleccionar los ítems que podrían interesarle a un determinado usario.\n",
    "\n",
    "Ahora debemos encontrar un mecanismo para procesar toda la información que recopilemos previamente de los usuarios, para ello debemos reducir la dimensionalidad de nuestra matriz de votaciones, ya que esta puede ser muy grande y dispersa, a este proceso lo llamareos \\textit{reducción de la dimensinalidad}. \n",
    "\n",
    "Por lo que es necesario determinar una matriz que sea equivalente a la original y que sea mas concisa a la hora de brindar la información para realizar la recomendación. Esto permite hacer más eficiente el proceso pues solo tendremos que considerar las características principales en vez de analizar completamente toda nuestra extensa matriz original, además esto permite minimizar los problemas relacionados con la presencia de datos erróneos en nuestra recopilación.\n",
    "\n",
    "# Descomposición en Valores Singulares (SVD)\n",
    "\n",
    "$$ \\underset{(n, d)}A \\approx \\underset{(n, n)}U \\cdot \\underset{(n, d)}\\Sigma \\cdot \\underset{(d, d)} V^T  $$\n",
    "\n",
    "Cualquier matriz de tamaño (n, d) se puede descomponer en producto de tres factores\n",
    "\n",
    "* En *U* de tamaño (n, n) es una matriz ortogonal que contiene los vectores singulares izquierdos de *A*.\n",
    "* En $\\Sigma$ que es una matriz diagonal (n,d), cuyos valores son los valores singulares de la matriz *A* ordenados en valor decreciente\n",
    "* En *V* que es una matriz transpuesta (d,d), cuyos valores son los vectores singulares derechos de *A*.\n",
    "\n",
    "*Ortogonal significa que multiplicando la transpuesta por si misma, se obtiene la matriz identidad*\n",
    "\n",
    "Con esto lo que se consigue es que podemos ir elminando vectores de las matrices con la información que no es fundamental, (limpiar los datos) y quedarnos con aquella información más determinante."
   ]
  },
  {
   "cell_type": "markdown",
   "metadata": {},
   "source": [
    "## Aplicación práctica\n",
    "\n",
    "Lo que se hace con los motores de recomendación, es para una película que tu no has visto, teniendo en cuenta tus características y las de otros usuarios. Mediante SVD nos quedamos con los usuarios que son parecidos a ti, y vemos las peliculas que no has visto\n",
    "## Preprocesamos los datos"
   ]
  },
  {
   "cell_type": "markdown",
   "metadata": {},
   "source": [
    "###  Load librarys"
   ]
  },
  {
   "cell_type": "code",
   "execution_count": 2,
   "metadata": {},
   "outputs": [],
   "source": [
    "import pandas as pd\n",
    "from pandas.core.frame import DataFrame\n",
    "from pandas.io.parsers import read_csv\n",
    "from surprise import SVDpp\n",
    "from surprise import Dataset, Reader\n",
    "from surprise.model_selection import train_test_split\n",
    "from surprise import accuracy\n",
    "from collections import defaultdict"
   ]
  },
  {
   "cell_type": "markdown",
   "metadata": {},
   "source": [
    "### Load data "
   ]
  },
  {
   "cell_type": "code",
   "execution_count": 3,
   "metadata": {},
   "outputs": [],
   "source": [
    "movies = pd.read_csv(\"data/items.csv\")\n",
    "ratings = pd.read_csv(\"data/ratings.csv\")\n",
    "df_movies = ratings.merge(movies, on=\"itemId\", how=\"left\")\n",
    "df_movies_to_model = df_movies[df_movies.columns[:3]]"
   ]
  },
  {
   "cell_type": "markdown",
   "metadata": {},
   "source": [
    "### Preprocessing"
   ]
  },
  {
   "cell_type": "code",
   "execution_count": 4,
   "metadata": {},
   "outputs": [],
   "source": [
    "reader = Reader()\n",
    "data = Dataset.load_from_df(df_movies_to_model[df_movies.columns[:3]], reader)\n",
    "train, test = train_test_split(data, test_size=0.25)\n"
   ]
  },
  {
   "cell_type": "markdown",
   "metadata": {},
   "source": [
    "### Training and testing"
   ]
  },
  {
   "cell_type": "code",
   "execution_count": 5,
   "metadata": {},
   "outputs": [
    {
     "ename": "KeyboardInterrupt",
     "evalue": "",
     "output_type": "error",
     "traceback": [
      "\u001b[0;31m---------------------------------------------------------------------------\u001b[0m",
      "\u001b[0;31mKeyboardInterrupt\u001b[0m                         Traceback (most recent call last)",
      "Cell \u001b[0;32mIn [5], line 2\u001b[0m\n\u001b[1;32m      1\u001b[0m svd \u001b[39m=\u001b[39m SVDpp()\n\u001b[0;32m----> 2\u001b[0m svd\u001b[39m.\u001b[39;49mfit(train)\n\u001b[1;32m      3\u001b[0m preds \u001b[39m=\u001b[39m svd\u001b[39m.\u001b[39mtest(test)\n",
      "File \u001b[0;32m~/.local/lib/python3.10/site-packages/surprise/prediction_algorithms/matrix_factorization.pyx:400\u001b[0m, in \u001b[0;36msurprise.prediction_algorithms.matrix_factorization.SVDpp.fit\u001b[0;34m()\u001b[0m\n",
      "File \u001b[0;32m~/.local/lib/python3.10/site-packages/surprise/prediction_algorithms/matrix_factorization.pyx:464\u001b[0m, in \u001b[0;36msurprise.prediction_algorithms.matrix_factorization.SVDpp.sgd\u001b[0;34m()\u001b[0m\n",
      "File \u001b[0;32m~/.local/lib/python3.10/site-packages/surprise/trainset.py:194\u001b[0m, in \u001b[0;36mTrainset.all_ratings\u001b[0;34m(self)\u001b[0m\n\u001b[1;32m    192\u001b[0m \u001b[39mfor\u001b[39;00m u, u_ratings \u001b[39min\u001b[39;00m \u001b[39mself\u001b[39m\u001b[39m.\u001b[39mur\u001b[39m.\u001b[39mitems():\n\u001b[1;32m    193\u001b[0m     \u001b[39mfor\u001b[39;00m i, r \u001b[39min\u001b[39;00m u_ratings:\n\u001b[0;32m--> 194\u001b[0m         \u001b[39myield\u001b[39;00m u, i, r\n",
      "\u001b[0;31mKeyboardInterrupt\u001b[0m: "
     ]
    }
   ],
   "source": [
    "svd = SVDpp()\n",
    "svd.fit(train)\n",
    "preds = svd.test(test)"
   ]
  },
  {
   "cell_type": "markdown",
   "metadata": {},
   "source": [
    "### Evaluation\n",
    "\n",
    "It's a good evaluations marks so let's train the model with the complete Dataset"
   ]
  },
  {
   "cell_type": "code",
   "execution_count": 60,
   "metadata": {},
   "outputs": [
    {
     "name": "stdout",
     "output_type": "stream",
     "text": [
      "MAE:  0.6593\n",
      "RMSE: 0.8614\n"
     ]
    },
    {
     "data": {
      "text/plain": [
       "0.8613785665911383"
      ]
     },
     "execution_count": 60,
     "metadata": {},
     "output_type": "execute_result"
    }
   ],
   "source": [
    "accuracy.mae(preds)\n",
    "accuracy.rmse(preds)"
   ]
  },
  {
   "cell_type": "markdown",
   "metadata": {},
   "source": [
    "### Train all data"
   ]
  },
  {
   "cell_type": "code",
   "execution_count": 61,
   "metadata": {},
   "outputs": [
    {
     "data": {
      "text/plain": [
       "Prediction(uid=1, iid=1, r_ui=None, est=4.622608547733601, details={'was_impossible': False})"
      ]
     },
     "execution_count": 61,
     "metadata": {},
     "output_type": "execute_result"
    }
   ],
   "source": [
    "trainfull = data.build_full_trainset()\n",
    "\n",
    "svd = SVDpp()\n",
    "svd.fit(trainfull)\n",
    "\n",
    "svd.predict(uid=1, iid=1)"
   ]
  },
  {
   "cell_type": "markdown",
   "metadata": {},
   "source": [
    "### Create a recommender function"
   ]
  },
  {
   "cell_type": "code",
   "execution_count": 63,
   "metadata": {},
   "outputs": [],
   "source": [
    "def recommend_system(userId, dataframe, algorithm, n_commends):\n",
    "    \"\"\"\n",
    "with the parameters, returns back the top n recommends movies.\n",
    "\n",
    "Parameters\n",
    "-----------\n",
    "\n",
    "userId: the user ID of the person that we want recommendations\n",
    "\n",
    "dataframe: the DataFrame of movies.\n",
    "\n",
    "algorithm: the algorith used to recommend movies.\n",
    "\n",
    "n_commends: the number of movies recommended.\n",
    "\n",
    "\n",
    "return\n",
    "------\n",
    "\n",
    "ID of movies that a specific user will like.\n",
    "\n",
    "    \"\"\"\n",
    "    movie_ids = dataframe['movieId'].to_list()\n",
    "    movies_watched = dataframe[dataframe[\"userId\"] == userId][\"movieId\"]\n",
    "    movies_no_watched = [movie for movie in movie_ids if movie not in movies_watched]\n",
    "\n",
    "    preds = [algorithm.predict(uid=userId, iid=movie) for movie in movies_no_watched]\n",
    "    commends_ratting = {pred[1]:pred[3] for pred in preds}\n",
    "    order_dict = {k: v for k, v in sorted(commends_ratting.items(), key=lambda item: item[1])}\n",
    "\n",
    "    top_predictions = list(order_dict.keys())[:n_commends]\n",
    "\n",
    "    return dataframe[dataframe[\"movieId\"].isin(top_predictions)][[\"title\", \"genres\"]].drop_duplicates()"
   ]
  },
  {
   "cell_type": "code",
   "execution_count": 64,
   "metadata": {},
   "outputs": [
    {
     "name": "stdout",
     "output_type": "stream",
     "text": [
      "ID of the movies recommended:                                         title  \\\n",
      "106    I Know What You Did Last Summer (1997)   \n",
      "125           Honey, I Shrunk the Kids (1989)   \n",
      "1316                          Godzilla (1998)   \n",
      "2555                    Batman & Robin (1997)   \n",
      "27683             Visitor Q (Bizita Q) (2001)   \n",
      "\n",
      "                                         genres  \n",
      "106                     Horror|Mystery|Thriller  \n",
      "125    Adventure|Children|Comedy|Fantasy|Sci-Fi  \n",
      "1316                     Action|Sci-Fi|Thriller  \n",
      "2555          Action|Adventure|Fantasy|Thriller  \n",
      "27683                       Comedy|Drama|Horror  \n"
     ]
    }
   ],
   "source": [
    "movies_recommended = recommend_system(3, df_movies, svd, 5)\n",
    "print(\"ID of the movies recommended:\", movies_recommended)"
   ]
  },
  {
   "cell_type": "markdown",
   "metadata": {},
   "source": [
    "### Check if have sense and conclusion"
   ]
  },
  {
   "cell_type": "code",
   "execution_count": 52,
   "metadata": {},
   "outputs": [],
   "source": [
    "def check_movies_user(userId, dataframe, n):\n",
    "    return dataframe[dataframe[\"userId\"] ==userId].sort_values(\"rating\", ascending=False)[:n]"
   ]
  },
  {
   "cell_type": "code",
   "execution_count": 65,
   "metadata": {},
   "outputs": [
    {
     "name": "stdout",
     "output_type": "stream",
     "text": [
      "Movies user likes:      userId  movieId  rating  timestamp  \\\n",
      "231       1     5060     5.0  964984002   \n",
      "185       1     2872     5.0  964981680   \n",
      "89        1     1291     5.0  964981909   \n",
      "90        1     1298     5.0  964984086   \n",
      "190       1     2948     5.0  964982191   \n",
      "189       1     2947     5.0  964982176   \n",
      "188       1     2944     5.0  964981872   \n",
      "186       1     2899     5.0  964982703   \n",
      "184       1     2858     5.0  964980868   \n",
      "179       1     2700     5.0  964980985   \n",
      "98        1     1517     5.0  964981107   \n",
      "100       1     1573     5.0  964982290   \n",
      "102       1     1587     5.0  964982346   \n",
      "103       1     1617     5.0  964982951   \n",
      "181       1     2761     5.0  964982703   \n",
      "105       1     1625     5.0  964983504   \n",
      "88        1     1282     5.0  964982703   \n",
      "87        1     1278     5.0  964983414   \n",
      "86        1     1275     5.0  964982290   \n",
      "85        1     1270     5.0  964983705   \n",
      "\n",
      "                                                 title  \\\n",
      "231                       M*A*S*H (a.k.a. MASH) (1970)   \n",
      "185                                   Excalibur (1981)   \n",
      "89           Indiana Jones and the Last Crusade (1989)   \n",
      "90                         Pink Floyd: The Wall (1982)   \n",
      "190                       From Russia with Love (1963)   \n",
      "189                                  Goldfinger (1964)   \n",
      "188                            Dirty Dozen, The (1967)   \n",
      "186                          Gulliver's Travels (1939)   \n",
      "184                             American Beauty (1999)   \n",
      "179        South Park: Bigger, Longer and Uncut (1999)   \n",
      "98   Austin Powers: International Man of Mystery (1...   \n",
      "100                                    Face/Off (1997)   \n",
      "102                         Conan the Barbarian (1982)   \n",
      "103                           L.A. Confidential (1997)   \n",
      "181                             Iron Giant, The (1999)   \n",
      "105                                   Game, The (1997)   \n",
      "88                                     Fantasia (1940)   \n",
      "87                           Young Frankenstein (1974)   \n",
      "86                                   Highlander (1986)   \n",
      "85                           Back to the Future (1985)   \n",
      "\n",
      "                                        genres  \n",
      "231                           Comedy|Drama|War  \n",
      "185                          Adventure|Fantasy  \n",
      "89                            Action|Adventure  \n",
      "90                               Drama|Musical  \n",
      "190                  Action|Adventure|Thriller  \n",
      "189                  Action|Adventure|Thriller  \n",
      "188                           Action|Drama|War  \n",
      "186               Adventure|Animation|Children  \n",
      "184                              Drama|Romance  \n",
      "179                   Animation|Comedy|Musical  \n",
      "98                     Action|Adventure|Comedy  \n",
      "100                Action|Crime|Drama|Thriller  \n",
      "102                   Action|Adventure|Fantasy  \n",
      "103           Crime|Film-Noir|Mystery|Thriller  \n",
      "181  Adventure|Animation|Children|Drama|Sci-Fi  \n",
      "105                     Drama|Mystery|Thriller  \n",
      "88          Animation|Children|Fantasy|Musical  \n",
      "87                              Comedy|Fantasy  \n",
      "86                    Action|Adventure|Fantasy  \n",
      "85                     Adventure|Comedy|Sci-Fi  \n"
     ]
    }
   ],
   "source": [
    "print(f\"Movies user likes:\", check_movies_user(1, df_movies, 20))"
   ]
  },
  {
   "cell_type": "markdown",
   "metadata": {},
   "source": [
    "## 3. Conclusions\n",
    "* Algorithm: have good evaluation metrics, we can improve it with other options from surprise library as cross validation\n",
    "* Recommender function: can be improved and make more general and in a better way for production, but for this task is enought\n",
    "* Results: We can see the user loves Thriller, action, adventure, and some comedy, and our recommender systems give back this kind of movies and the user have never seen before. Perfect!"
   ]
  }
 ],
 "metadata": {
  "kernelspec": {
   "display_name": "Python 3.10.6 64-bit",
   "language": "python",
   "name": "python3"
  },
  "language_info": {
   "codemirror_mode": {
    "name": "ipython",
    "version": 3
   },
   "file_extension": ".py",
   "mimetype": "text/x-python",
   "name": "python",
   "nbconvert_exporter": "python",
   "pygments_lexer": "ipython3",
   "version": "3.10.6"
  },
  "orig_nbformat": 2,
  "vscode": {
   "interpreter": {
    "hash": "916dbcbb3f70747c44a77c7bcd40155683ae19c65e1c03b4aa3499c5328201f1"
   }
  }
 },
 "nbformat": 4,
 "nbformat_minor": 2
}
